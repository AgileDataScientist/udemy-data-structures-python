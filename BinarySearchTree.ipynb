{
  "nbformat": 4,
  "nbformat_minor": 0,
  "metadata": {
    "colab": {
      "name": "BinarySearchTree.ipynb",
      "provenance": [],
      "authorship_tag": "ABX9TyMibQaa1SfhVgKeF10ECczz",
      "include_colab_link": true
    },
    "kernelspec": {
      "name": "python3",
      "display_name": "Python 3"
    },
    "language_info": {
      "name": "python"
    }
  },
  "cells": [
    {
      "cell_type": "markdown",
      "metadata": {
        "id": "view-in-github",
        "colab_type": "text"
      },
      "source": [
        "<a href=\"https://colab.research.google.com/github/AgileDataScientist/udemy-data-structures-python/blob/main/BinarySearchTree.ipynb\" target=\"_parent\"><img src=\"https://colab.research.google.com/assets/colab-badge.svg\" alt=\"Open In Colab\"/></a>"
      ]
    },
    {
      "cell_type": "code",
      "execution_count": 1,
      "metadata": {
        "id": "n_w5TsUSTajH"
      },
      "outputs": [],
      "source": [
        "class Node:\n",
        "\n",
        "  def __init__(self, data):\n",
        "    self.data = data\n",
        "    self.left = None\n",
        "    self.right = None\n",
        "    \n",
        "\n",
        "class BinarySearchTree:\n",
        "\n",
        "  def __init__(self):\n",
        "    self.root  = None\n",
        "    self.depth = 0\n",
        "  \n",
        "  def insert_node(self, data):\n",
        "\n",
        "    newNode = Node(data)\n",
        "\n",
        "    # if tree is empty, set root\n",
        "    if self.root is None:\n",
        "      self.root = newNode\n",
        "      self.depth += 1\n",
        "      print('ROOT => ', self.root, ' Data => ', self.root.data, ' Left => ', self.root.left, ' Right => ', self.root.right, ' Tree Depth => ', self.depth, '\\n')\n",
        "      print('CURRENT NODE.LEFT => ', self.root.left)\n",
        "      return self\n",
        "    else:\n",
        "      currentNode = self.root\n",
        "      while True:\n",
        "        if data < currentNode.data:\n",
        "          if currentNode.left is None:\n",
        "            currentNode.left = newNode\n",
        "            self.depth += 1\n",
        "            print('SELF.LEFT => ', self.root, ' Left => ', self.root.left.data, ' Right => ', self.root.right, ' Tree Depth => ', self.depth, '\\n')\n",
        "            print('CURRENT NODE.LEFT => ', self.root.left)\n",
        "            return self\n",
        "          currentNode = currentNode.left \n",
        "          print('CURRENT NODE.LEFT => ', currentNode.left)\n",
        "        #elif data > currentNode.data:\n",
        "        elif data > currentNode.data:\n",
        "          if currentNode.right is None:\n",
        "            currentNode.right = newNode\n",
        "            self.depth += 1\n",
        "            print('SELF.RIGHT => ', self.root.right, ' Left => ', self.root.left, ' Right => ', self.root.right, ' Tree Depth => ', self.depth, '\\n')\n",
        "            return self\n",
        "          currentNode = currentNode.right\n",
        "          print('CURRENT NODE.RIGHT => ', self.root.data, '\\n')\n",
        "        \n",
        "\n",
        "  def PrintTreeStructure(self):\n",
        "    if self.left:\n",
        "      self.left.PrintTreeStructure()\n",
        "    print(self.data)\n",
        "    if self.right:\n",
        "      self.right.PrintTreeStructure()"
      ]
    },
    {
      "cell_type": "code",
      "source": [
        "bst = BinarySearchTree()\n",
        "bst.insert_node(15)\n",
        "bst.insert_node(10)\n",
        "bst.insert_node(5)\n",
        "bst.insert_node(40)\n",
        "bst.insert_node(20)\n",
        "bst.insert_node(65)\n",
        "bst.insert_node(55)\n",
        "print()\n",
        "print(bst.root.data, ',',bst.root.left.data, ',', bst.root.left.left.data, ',', bst.root.data, ',', bst.root.right.data, ',', bst.root.right.left.data, ',', bst.root.right.right.data, ',', bst.root.right.right.left.data)"
      ],
      "metadata": {
        "colab": {
          "base_uri": "https://localhost:8080/"
        },
        "id": "_OcA9I4BWLQy",
        "outputId": "80ad3ae4-7a20-4f77-e6cf-9201028e5ee4"
      },
      "execution_count": 2,
      "outputs": [
        {
          "output_type": "stream",
          "name": "stdout",
          "text": [
            "ROOT =>  <__main__.Node object at 0x7fec6568f1d0>  Data =>  15  Left =>  None  Right =>  None  Tree Depth =>  1 \n",
            "\n",
            "CURRENT NODE.LEFT =>  None\n",
            "SELF.LEFT =>  <__main__.Node object at 0x7fec6568f1d0>  Left =>  10  Right =>  None  Tree Depth =>  2 \n",
            "\n",
            "CURRENT NODE.LEFT =>  <__main__.Node object at 0x7fec6568f250>\n",
            "CURRENT NODE.LEFT =>  None\n",
            "SELF.LEFT =>  <__main__.Node object at 0x7fec6568f1d0>  Left =>  10  Right =>  None  Tree Depth =>  3 \n",
            "\n",
            "CURRENT NODE.LEFT =>  <__main__.Node object at 0x7fec6568f250>\n",
            "SELF.RIGHT =>  <__main__.Node object at 0x7fec6568fe10>  Left =>  <__main__.Node object at 0x7fec6568f250>  Right =>  <__main__.Node object at 0x7fec6568fe10>  Tree Depth =>  4 \n",
            "\n",
            "CURRENT NODE.RIGHT =>  15 \n",
            "\n",
            "SELF.LEFT =>  <__main__.Node object at 0x7fec6568f1d0>  Left =>  10  Right =>  <__main__.Node object at 0x7fec6568fe10>  Tree Depth =>  5 \n",
            "\n",
            "CURRENT NODE.LEFT =>  <__main__.Node object at 0x7fec6568f250>\n",
            "CURRENT NODE.RIGHT =>  15 \n",
            "\n",
            "SELF.RIGHT =>  <__main__.Node object at 0x7fec6568fe10>  Left =>  <__main__.Node object at 0x7fec6568f250>  Right =>  <__main__.Node object at 0x7fec6568fe10>  Tree Depth =>  6 \n",
            "\n",
            "CURRENT NODE.RIGHT =>  15 \n",
            "\n",
            "CURRENT NODE.RIGHT =>  15 \n",
            "\n",
            "SELF.LEFT =>  <__main__.Node object at 0x7fec6568f1d0>  Left =>  10  Right =>  <__main__.Node object at 0x7fec6568fe10>  Tree Depth =>  7 \n",
            "\n",
            "CURRENT NODE.LEFT =>  <__main__.Node object at 0x7fec6568f250>\n",
            "\n",
            "15 , 10 , 5 , 15 , 40 , 20 , 65 , 55\n"
          ]
        }
      ]
    }
  ]
}