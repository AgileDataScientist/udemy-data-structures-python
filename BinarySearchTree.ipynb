{
  "nbformat": 4,
  "nbformat_minor": 0,
  "metadata": {
    "colab": {
      "name": "BinarySearchTree.ipynb",
      "provenance": [],
      "authorship_tag": "ABX9TyM9ftdihw3L7Bxw1P4YC+px",
      "include_colab_link": true
    },
    "kernelspec": {
      "name": "python3",
      "display_name": "Python 3"
    },
    "language_info": {
      "name": "python"
    }
  },
  "cells": [
    {
      "cell_type": "markdown",
      "metadata": {
        "id": "view-in-github",
        "colab_type": "text"
      },
      "source": [
        "<a href=\"https://colab.research.google.com/github/AgileDataScientist/udemy-data-structures-python/blob/main/BinarySearchTree.ipynb\" target=\"_parent\"><img src=\"https://colab.research.google.com/assets/colab-badge.svg\" alt=\"Open In Colab\"/></a>"
      ]
    },
    {
      "cell_type": "code",
      "execution_count": 1,
      "metadata": {
        "id": "n_w5TsUSTajH"
      },
      "outputs": [],
      "source": [
        "class Node:\n",
        "\n",
        "  def __init__(self, data):\n",
        "    self.data = data\n",
        "    self.left = None\n",
        "    self.right = None\n",
        "    \n",
        "\n",
        "class BinarySearchTree:\n",
        "\n",
        "  def __init__(self):\n",
        "    self.root  = None\n",
        "    self.depth = 0\n",
        "  \n",
        "  def insert_node(self, data):\n",
        "\n",
        "    newNode = Node(data)\n",
        "\n",
        "    # if tree is empty, set root\n",
        "    if self.root is None:\n",
        "      self.root = newNode\n",
        "      self.depth += 1\n",
        "      #print('ROOT => ', self.root, ' Data => ', self.root.data, ' Left => ', self.root.left, ' Right => ', self.root.right, ' Tree Depth => ', self.depth, '\\n')\n",
        "      #print('CURRENT NODE.LEFT => ', self.root.left)\n",
        "      return self\n",
        "    else:\n",
        "      currentNode = self.root\n",
        "      while True:\n",
        "        if data < currentNode.data:\n",
        "          if currentNode.left is None:\n",
        "            currentNode.left = newNode\n",
        "            self.depth += 1\n",
        "            #print('SELF.LEFT => ', self.root, ' Left => ', self.root.left.data, ' Right => ', self.root.right, ' Tree Depth => ', self.depth, '\\n')\n",
        "            #print('CURRENT NODE.LEFT => ', self.root.left)\n",
        "            return self\n",
        "          currentNode = currentNode.left \n",
        "          #print('CURRENT NODE.LEFT => ', currentNode.left)\n",
        "        #elif data > currentNode.data:\n",
        "        elif data > currentNode.data:\n",
        "          if currentNode.right is None:\n",
        "            currentNode.right = newNode\n",
        "            self.depth += 1\n",
        "            #print('SELF.RIGHT => ', self.root.right, ' Left => ', self.root.left, ' Right => ', self.root.right, ' Tree Depth => ', self.depth, '\\n')\n",
        "            return self\n",
        "          currentNode = currentNode.right\n",
        "          #print('CURRENT NODE.RIGHT => ', self.root.data, '\\n')\n",
        "        \n",
        "\n",
        "  def PrintTreeStructure(self):\n",
        "    if self.root.left:\n",
        "      self.root.left.PrintTreeStructure()\n",
        "    print(self.root.data)\n",
        "    if self.root.right:\n",
        "      self.root.right.PrintTreeStructure()"
      ]
    },
    {
      "cell_type": "code",
      "source": [
        "bst = BinarySearchTree()\n",
        "bst.insert_node(15)\n",
        "bst.insert_node(10)\n",
        "bst.insert_node(5)\n",
        "bst.insert_node(40)\n",
        "bst.insert_node(20)\n",
        "bst.insert_node(65)\n",
        "bst.insert_node(55)\n",
        "print()\n",
        "print(bst.root.data, ',',bst.root.left.data, ',', bst.root.left.left.data, ',', bst.root.data, ',', bst.root.right.data, ',', bst.root.right.left.data, ',', bst.root.right.right.data, ',', bst.root.right.right.left.data)"
      ],
      "metadata": {
        "colab": {
          "base_uri": "https://localhost:8080/"
        },
        "id": "_OcA9I4BWLQy",
        "outputId": "09b95fdc-91ad-4010-fade-de1f55d08259"
      },
      "execution_count": 2,
      "outputs": [
        {
          "output_type": "stream",
          "name": "stdout",
          "text": [
            "\n",
            "15 , 10 , 5 , 15 , 40 , 20 , 65 , 55\n"
          ]
        }
      ]
    },
    {
      "cell_type": "code",
      "source": [
        "bst.PrintTreeStructure()"
      ],
      "metadata": {
        "id": "nlDyKhMRbOGD",
        "outputId": "e17e2618-4f5b-4e34-8a2a-90ee61016acd",
        "colab": {
          "base_uri": "https://localhost:8080/",
          "height": 287
        }
      },
      "execution_count": 3,
      "outputs": [
        {
          "output_type": "error",
          "ename": "AttributeError",
          "evalue": "ignored",
          "traceback": [
            "\u001b[0;31m---------------------------------------------------------------------------\u001b[0m",
            "\u001b[0;31mAttributeError\u001b[0m                            Traceback (most recent call last)",
            "\u001b[0;32m<ipython-input-3-3a27735994f8>\u001b[0m in \u001b[0;36m<module>\u001b[0;34m()\u001b[0m\n\u001b[0;32m----> 1\u001b[0;31m \u001b[0mbst\u001b[0m\u001b[0;34m.\u001b[0m\u001b[0mPrintTreeStructure\u001b[0m\u001b[0;34m(\u001b[0m\u001b[0;34m)\u001b[0m\u001b[0;34m\u001b[0m\u001b[0;34m\u001b[0m\u001b[0m\n\u001b[0m",
            "\u001b[0;32m<ipython-input-1-20ea4de875e3>\u001b[0m in \u001b[0;36mPrintTreeStructure\u001b[0;34m(self)\u001b[0m\n\u001b[1;32m     49\u001b[0m   \u001b[0;32mdef\u001b[0m \u001b[0mPrintTreeStructure\u001b[0m\u001b[0;34m(\u001b[0m\u001b[0mself\u001b[0m\u001b[0;34m)\u001b[0m\u001b[0;34m:\u001b[0m\u001b[0;34m\u001b[0m\u001b[0;34m\u001b[0m\u001b[0m\n\u001b[1;32m     50\u001b[0m     \u001b[0;32mif\u001b[0m \u001b[0mself\u001b[0m\u001b[0;34m.\u001b[0m\u001b[0mroot\u001b[0m\u001b[0;34m.\u001b[0m\u001b[0mleft\u001b[0m\u001b[0;34m:\u001b[0m\u001b[0;34m\u001b[0m\u001b[0;34m\u001b[0m\u001b[0m\n\u001b[0;32m---> 51\u001b[0;31m       \u001b[0mself\u001b[0m\u001b[0;34m.\u001b[0m\u001b[0mroot\u001b[0m\u001b[0;34m.\u001b[0m\u001b[0mleft\u001b[0m\u001b[0;34m.\u001b[0m\u001b[0mPrintTreeStructure\u001b[0m\u001b[0;34m(\u001b[0m\u001b[0;34m)\u001b[0m\u001b[0;34m\u001b[0m\u001b[0;34m\u001b[0m\u001b[0m\n\u001b[0m\u001b[1;32m     52\u001b[0m     \u001b[0mprint\u001b[0m\u001b[0;34m(\u001b[0m\u001b[0mself\u001b[0m\u001b[0;34m.\u001b[0m\u001b[0mroot\u001b[0m\u001b[0;34m.\u001b[0m\u001b[0mdata\u001b[0m\u001b[0;34m)\u001b[0m\u001b[0;34m\u001b[0m\u001b[0;34m\u001b[0m\u001b[0m\n\u001b[1;32m     53\u001b[0m     \u001b[0;32mif\u001b[0m \u001b[0mself\u001b[0m\u001b[0;34m.\u001b[0m\u001b[0mroot\u001b[0m\u001b[0;34m.\u001b[0m\u001b[0mright\u001b[0m\u001b[0;34m:\u001b[0m\u001b[0;34m\u001b[0m\u001b[0;34m\u001b[0m\u001b[0m\n",
            "\u001b[0;31mAttributeError\u001b[0m: 'Node' object has no attribute 'PrintTreeStructure'"
          ]
        }
      ]
    }
  ]
}