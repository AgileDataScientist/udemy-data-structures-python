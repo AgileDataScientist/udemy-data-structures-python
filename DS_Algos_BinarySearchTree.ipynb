{
  "nbformat": 4,
  "nbformat_minor": 0,
  "metadata": {
    "colab": {
      "name": "DS-Algos-BinarySearchTree.ipynb",
      "provenance": [],
      "authorship_tag": "ABX9TyN9uG+9DJg0glhPNc2VjDoP",
      "include_colab_link": true
    },
    "kernelspec": {
      "name": "python3",
      "display_name": "Python 3"
    },
    "language_info": {
      "name": "python"
    }
  },
  "cells": [
    {
      "cell_type": "markdown",
      "metadata": {
        "id": "view-in-github",
        "colab_type": "text"
      },
      "source": [
        "<a href=\"https://colab.research.google.com/github/AgileDataScientist/udemy-data-structures-python/blob/main/DS_Algos_BinarySearchTree.ipynb\" target=\"_parent\"><img src=\"https://colab.research.google.com/assets/colab-badge.svg\" alt=\"Open In Colab\"/></a>"
      ]
    },
    {
      "cell_type": "code",
      "execution_count": null,
      "metadata": {
        "id": "wZDLRcQVIxW3"
      },
      "outputs": [],
      "source": [
        "class Node:\n",
        "\n",
        "  def __init__(self, data):\n",
        "    self.left = None\n",
        "    self.right = None\n",
        "    self.data = data\n",
        "\n",
        "  #def printStructure(self):\n",
        "  #  print('data => ',self.data,' Left => ',self.left, ' right => ',self.right)"
      ]
    },
    {
      "cell_type": "code",
      "source": [
        "class BinarySearchTree:\n",
        "\n",
        "  def __init__(self):\n",
        "    self.root  = None\n",
        "    self.depth = 0\n",
        "  \n",
        "  def insert_node(self, data):\n",
        "\n",
        "    newNode = Node(data)\n",
        "\n",
        "    # if tree is empty, set root\n",
        "    if self.root is None:\n",
        "      self.root = newNode\n",
        "      self.depth += 1\n",
        "      print('ROOT => ', self.root, ' Data => ', self.root.data, ' Left => ', self.root.left, ' Right => ', self.root.right, ' Tree Depth => ', self.depth, '\\n')\n",
        "      print('CURRENT NODE.LEFT => ', self.root.left)\n",
        "      return self\n",
        "    else:\n",
        "      currentNode = self.root\n",
        "      while True:\n",
        "        if data < currentNode.data:\n",
        "          if currentNode.left is None:\n",
        "            currentNode.left = newNode\n",
        "            self.depth += 1\n",
        "            print('SELF.LEFT => ', self.root, ' Left => ', self.root.left.data, ' Right => ', self.root.right, ' Tree Depth => ', self.depth, '\\n')\n",
        "            print('CURRENT NODE.LEFT => ', self.root.left)\n",
        "            return self\n",
        "          currentNode = currentNode.left \n",
        "          print('CURRENT NODE.LEFT => ', currentNode.left)\n",
        "        #elif data > currentNode.data:\n",
        "        elif data > currentNode.data:\n",
        "          if currentNode.right is None:\n",
        "            currentNode.right = newNode\n",
        "            self.depth += 1\n",
        "            print('SELF.RIGHT => ', self.root.right, ' Left => ', self.root.left, ' Right => ', self.root.right, ' Tree Depth => ', self.depth, '\\n')\n",
        "            return self\n",
        "          currentNode = currentNode.right\n",
        "          print('CURRENT NODE.RIGHT => ', self.root.data, '\\n')\n",
        "        \n",
        "\n",
        "  def PrintTreeStructure(self):\n",
        "    if self.left:\n",
        "      self.left.PrintTreeStructure()\n",
        "    print(self.data)\n",
        "    if self.right:\n",
        "      self.right.PrintTreeStructure()"
      ],
      "metadata": {
        "id": "GmZy7WH7KHEv"
      },
      "execution_count": null,
      "outputs": []
    },
    {
      "cell_type": "code",
      "source": [
        "bst = BinarySearchTree()\n",
        "bst.insert_node(15)\n",
        "bst.insert_node(10)\n",
        "bst.insert_node(5)\n",
        "print()\n",
        "print(bst.root.data, ',',bst.root.left.data, ',', bst.root.left.left.data)"
      ],
      "metadata": {
        "colab": {
          "base_uri": "https://localhost:8080/"
        },
        "id": "vgFtfQCFJLhi",
        "outputId": "370b4aec-45ac-4f3a-d0ff-52b4e694c75b"
      },
      "execution_count": null,
      "outputs": [
        {
          "output_type": "stream",
          "name": "stdout",
          "text": [
            "ROOT =>  <__main__.Node object at 0x7f19225f0910>  Data =>  15  Left =>  None  Right =>  None  Tree Depth =>  1 \n",
            "\n",
            "CURRENT NODE.LEFT =>  None\n",
            "SELF.LEFT =>  <__main__.Node object at 0x7f19225f0910>  Left =>  10  Right =>  None  Tree Depth =>  2 \n",
            "\n",
            "CURRENT NODE.LEFT =>  <__main__.Node object at 0x7f1922617a50>\n",
            "CURRENT NODE.LEFT =>  None\n",
            "SELF.LEFT =>  <__main__.Node object at 0x7f19225f0910>  Left =>  10  Right =>  None  Tree Depth =>  3 \n",
            "\n",
            "CURRENT NODE.LEFT =>  <__main__.Node object at 0x7f1922617a50>\n",
            "\n",
            "15 , 10 , 5\n"
          ]
        }
      ]
    },
    {
      "cell_type": "code",
      "source": [
        "bst = BinarySearchTree()\n",
        "bst.insert_node(15)\n",
        "bst.insert_node(10)\n",
        "bst.insert_node(5)\n",
        "bst.insert_node(40)\n",
        "bst.insert_node(20)\n",
        "bst.insert_node(65)\n",
        "bst.insert_node(55)\n",
        "print()\n",
        "print(bst.root.data, ',',bst.root.left.data, ',', bst.root.left.left.data, ',', bst.root.data, ',', bst.root.right.data, ',', bst.root.right.left.data, ',', bst.root.right.right.data, ',', bst.root.right.right.left.data)"
      ],
      "metadata": {
        "colab": {
          "base_uri": "https://localhost:8080/"
        },
        "id": "Js268ykh_5ss",
        "outputId": "33ee6422-1817-414c-ba7d-e23f6aa88a1a"
      },
      "execution_count": null,
      "outputs": [
        {
          "output_type": "stream",
          "name": "stdout",
          "text": [
            "ROOT =>  <__main__.Node object at 0x7f1922551790>  Data =>  15  Left =>  None  Right =>  None  Tree Depth =>  1 \n",
            "\n",
            "CURRENT NODE.LEFT =>  None\n",
            "SELF.LEFT =>  <__main__.Node object at 0x7f1922551790>  Left =>  10  Right =>  None  Tree Depth =>  2 \n",
            "\n",
            "CURRENT NODE.LEFT =>  <__main__.Node object at 0x7f1922551d90>\n",
            "CURRENT NODE.LEFT =>  None\n",
            "SELF.LEFT =>  <__main__.Node object at 0x7f1922551790>  Left =>  10  Right =>  None  Tree Depth =>  3 \n",
            "\n",
            "CURRENT NODE.LEFT =>  <__main__.Node object at 0x7f1922551d90>\n",
            "SELF.RIGHT =>  <__main__.Node object at 0x7f1922505750>  Left =>  <__main__.Node object at 0x7f1922551d90>  Right =>  <__main__.Node object at 0x7f1922505750>  Tree Depth =>  4 \n",
            "\n",
            "CURRENT NODE.RIGHT =>  15 \n",
            "\n",
            "SELF.LEFT =>  <__main__.Node object at 0x7f1922551790>  Left =>  10  Right =>  <__main__.Node object at 0x7f1922505750>  Tree Depth =>  5 \n",
            "\n",
            "CURRENT NODE.LEFT =>  <__main__.Node object at 0x7f1922551d90>\n",
            "CURRENT NODE.RIGHT =>  15 \n",
            "\n",
            "SELF.RIGHT =>  <__main__.Node object at 0x7f1922505750>  Left =>  <__main__.Node object at 0x7f1922551d90>  Right =>  <__main__.Node object at 0x7f1922505750>  Tree Depth =>  6 \n",
            "\n",
            "CURRENT NODE.RIGHT =>  15 \n",
            "\n",
            "CURRENT NODE.RIGHT =>  15 \n",
            "\n",
            "SELF.LEFT =>  <__main__.Node object at 0x7f1922551790>  Left =>  10  Right =>  <__main__.Node object at 0x7f1922505750>  Tree Depth =>  7 \n",
            "\n",
            "CURRENT NODE.LEFT =>  <__main__.Node object at 0x7f1922551d90>\n",
            "\n",
            "15 , 10 , 5 , 15 , 40 , 20 , 65 , 55\n"
          ]
        }
      ]
    },
    {
      "cell_type": "code",
      "source": [
        "newNode = Node(15)\n",
        "print(newNode)\n",
        "print(newNode.data)\n",
        "print(newNode.left)\n",
        "print(newNode.right)\n",
        "print()\n",
        "\n",
        "newNode.left = Node(10)\n",
        "print(newNode.data)\n",
        "print(newNode.left.data)\n",
        "print(newNode.left.left)\n",
        "print(newNode.left.right)\n",
        "print()\n",
        "\n",
        "newNode.left.left = Node(5)\n",
        "print(newNode.data)\n",
        "print(newNode.left.data)\n",
        "print(newNode.left.left.data)\n",
        "print(newNode.left.left.left)\n",
        "print(newNode.left.left.right)\n"
      ],
      "metadata": {
        "colab": {
          "base_uri": "https://localhost:8080/"
        },
        "id": "7trDDP9m108i",
        "outputId": "011d0a1c-fc4c-447f-d1a1-5abb067399a2"
      },
      "execution_count": null,
      "outputs": [
        {
          "output_type": "stream",
          "name": "stdout",
          "text": [
            "<__main__.Node object at 0x7f1922590c50>\n",
            "15\n",
            "None\n",
            "None\n",
            "\n",
            "15\n",
            "10\n",
            "None\n",
            "None\n",
            "\n",
            "15\n",
            "10\n",
            "5\n",
            "None\n",
            "None\n"
          ]
        }
      ]
    },
    {
      "cell_type": "code",
      "source": [
        "bst.PrintTreeStructure()"
      ],
      "metadata": {
        "id": "kcdqRK_pxEDB"
      },
      "execution_count": null,
      "outputs": []
    },
    {
      "cell_type": "code",
      "source": [
        ""
      ],
      "metadata": {
        "colab": {
          "base_uri": "https://localhost:8080/",
          "height": 321
        },
        "id": "yXN26QKfLiKJ",
        "outputId": "5d253c5b-dbff-44b8-f718-8f92cea603d3"
      },
      "execution_count": null,
      "outputs": [
        {
          "output_type": "error",
          "ename": "AttributeError",
          "evalue": "ignored",
          "traceback": [
            "\u001b[0;31m---------------------------------------------------------------------------\u001b[0m",
            "\u001b[0;31mAttributeError\u001b[0m                            Traceback (most recent call last)",
            "\u001b[0;32m<ipython-input-29-76e979c6ae99>\u001b[0m in \u001b[0;36m<module>\u001b[0;34m()\u001b[0m\n\u001b[1;32m      1\u001b[0m \u001b[0mroot\u001b[0m \u001b[0;34m=\u001b[0m \u001b[0mNode\u001b[0m\u001b[0;34m(\u001b[0m\u001b[0;36m1\u001b[0m\u001b[0;34m)\u001b[0m\u001b[0;34m\u001b[0m\u001b[0;34m\u001b[0m\u001b[0m\n\u001b[1;32m      2\u001b[0m \u001b[0mroot\u001b[0m\u001b[0;34m.\u001b[0m\u001b[0mleft\u001b[0m \u001b[0;34m=\u001b[0m \u001b[0mNode\u001b[0m\u001b[0;34m(\u001b[0m\u001b[0;36m2\u001b[0m\u001b[0;34m)\u001b[0m\u001b[0;34m\u001b[0m\u001b[0;34m\u001b[0m\u001b[0m\n\u001b[0;32m----> 3\u001b[0;31m \u001b[0mroot\u001b[0m\u001b[0;34m.\u001b[0m\u001b[0mleft\u001b[0m\u001b[0;34m.\u001b[0m\u001b[0mprintStructure\u001b[0m\u001b[0;34m(\u001b[0m\u001b[0;34m)\u001b[0m\u001b[0;34m\u001b[0m\u001b[0;34m\u001b[0m\u001b[0m\n\u001b[0m\u001b[1;32m      4\u001b[0m \u001b[0mroot\u001b[0m\u001b[0;34m.\u001b[0m\u001b[0mright\u001b[0m \u001b[0;34m=\u001b[0m \u001b[0mNode\u001b[0m\u001b[0;34m(\u001b[0m\u001b[0;36m3\u001b[0m\u001b[0;34m)\u001b[0m\u001b[0;34m\u001b[0m\u001b[0;34m\u001b[0m\u001b[0m\n\u001b[1;32m      5\u001b[0m \u001b[0mroot\u001b[0m\u001b[0;34m.\u001b[0m\u001b[0mleft\u001b[0m\u001b[0;34m.\u001b[0m\u001b[0mleft\u001b[0m \u001b[0;34m=\u001b[0m \u001b[0mNode\u001b[0m\u001b[0;34m(\u001b[0m\u001b[0;36m4\u001b[0m\u001b[0;34m)\u001b[0m\u001b[0;34m\u001b[0m\u001b[0;34m\u001b[0m\u001b[0m\n",
            "\u001b[0;32m<ipython-input-24-5cf5b8f980b5>\u001b[0m in \u001b[0;36mprintStructure\u001b[0;34m(self)\u001b[0m\n\u001b[1;32m      7\u001b[0m \u001b[0;34m\u001b[0m\u001b[0m\n\u001b[1;32m      8\u001b[0m   \u001b[0;32mdef\u001b[0m \u001b[0mprintStructure\u001b[0m\u001b[0;34m(\u001b[0m\u001b[0mself\u001b[0m\u001b[0;34m)\u001b[0m\u001b[0;34m:\u001b[0m\u001b[0;34m\u001b[0m\u001b[0;34m\u001b[0m\u001b[0m\n\u001b[0;32m----> 9\u001b[0;31m     \u001b[0mprint\u001b[0m\u001b[0;34m(\u001b[0m\u001b[0;34m'data => '\u001b[0m\u001b[0;34m,\u001b[0m\u001b[0mself\u001b[0m\u001b[0;34m.\u001b[0m\u001b[0mdata\u001b[0m\u001b[0;34m,\u001b[0m\u001b[0;34m' depth => '\u001b[0m\u001b[0;34m,\u001b[0m\u001b[0mself\u001b[0m\u001b[0;34m.\u001b[0m\u001b[0mdepth\u001b[0m\u001b[0;34m)\u001b[0m\u001b[0;34m\u001b[0m\u001b[0;34m\u001b[0m\u001b[0m\n\u001b[0m",
            "\u001b[0;31mAttributeError\u001b[0m: 'Node' object has no attribute 'depth'"
          ]
        }
      ]
    }
  ]
}